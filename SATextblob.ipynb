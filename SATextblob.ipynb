{
 "cells": [
  {
   "cell_type": "code",
   "execution_count": 2,
   "metadata": {},
   "outputs": [],
   "source": [
    "# General:\n",
    "import tweepy           # To consume Twitter's API\n",
    "import pandas as pd     # To handle data\n",
    "import numpy as np      # For number computing\n",
    "\n",
    "# For plotting and visualization:\n",
    "from IPython.display import display\n",
    "import matplotlib.pyplot as plt\n",
    "import seaborn as sns"
   ]
  },
  {
   "cell_type": "code",
   "execution_count": 3,
   "metadata": {},
   "outputs": [],
   "source": [
    "def twitter_setup():\n",
    "    \"\"\"\n",
    "    Utility function to setup the Twitter's API\n",
    "    with our access keys provided.\n",
    "    \"\"\"\n",
    "    consumer_key = '9djiBujIhjpIOrzw9LqtGuFh8'\n",
    "    consumer_secret = 'gi798ZXa8YA7hH4dFw4zBGkKSGPd6qXmATcvQDGRnF5Qb6zSN7'\n",
    "    access_token = '758556758633811968-v4mRTEokErBRKdcJG5Uu7JuMjIFfx7u'\n",
    "    access_token_secret = 'k2oOoArJnuix017qJPz6ZkS6krAU6veL2kHU0i4Fv60pn'\n",
    "\n",
    "    auth = tweepy.OAuthHandler(consumer_key, consumer_secret)\n",
    "    auth.set_access_token(access_token, access_token_secret)\n",
    "    api = tweepy.API(auth,wait_on_rate_limit=True)\n",
    "    return api"
   ]
  },
  {
   "cell_type": "code",
   "execution_count": 4,
   "metadata": {},
   "outputs": [
    {
     "name": "stdout",
     "output_type": "stream",
     "text": [
      "Number of tweets extracted: 200.\n",
      "\n"
     ]
    }
   ],
   "source": [
    "# We create an extractor object:\n",
    "extractor = twitter_setup()\n",
    "\n",
    "# We create a tweet list as follows:\n",
    "tweets = extractor.user_timeline(screen_name=\"narendramodi\", count=200)\n",
    "print(\"Number of tweets extracted: {}.\\n\".format(len(tweets)))\n",
    "                                                                                                                                                                                                                                                                                                                                                                                                                                                                                                                                                                                                                                                                                                                                                                                                                                                                                                                                                                                                                                                                                                                                                                                                                                                                                                                                                                                                                                                                                                                                                                                                                                                                                                                                                                                                                                                                                                                                                                                                                                                                                                                                                                                                            "
   ]
  },
  {
   "cell_type": "code",
   "execution_count": 5,
   "metadata": {},
   "outputs": [
    {
     "name": "stdout",
     "output_type": "stream",
     "text": [
      "5 recent tweets:\n",
      "\n",
      "Warmest congratulations and good wishes to His Excellency U Win Myint on his election as President of the Republic… https://t.co/veUiwyzFxY\n",
      "\n",
      "RT @vijayrupanibjp: \"माधव से माधवपुर\"  \n",
      "#MadhavpurMela \n",
      "#EkBharatShreshthaBharat https://t.co/hNABmWJU5C\n",
      "\n",
      "Attended the farewell function for Rajya Sabha MPs who are retiring. I appreciate their contribution to Parliament… https://t.co/cRfQ77cZlU\n",
      "\n",
      "RT @rajyasabhatv: PM Modi bids farewell to retiring members of Rajya Sabha: https://t.co/5fzWrzordD via @YouTube\n",
      "\n",
      "Joined the ceremony marking the presentation of the Gallantry Awards and Distinguished Service Decorations at Rasht… https://t.co/V5AC0iDT7A\n",
      "\n"
     ]
    }
   ],
   "source": [
    "# We print the most recent 5 tweets:\n",
    "print(\"5 recent tweets:\\n\")\n",
    "for tweet in tweets[:5]:\n",
    "    print(tweet.text)\n",
    "    print()"
   ]
  },
  {
   "cell_type": "code",
   "execution_count": 6,
   "metadata": {},
   "outputs": [
    {
     "data": {
      "text/html": [
       "<div>\n",
       "<style scoped>\n",
       "    .dataframe tbody tr th:only-of-type {\n",
       "        vertical-align: middle;\n",
       "    }\n",
       "\n",
       "    .dataframe tbody tr th {\n",
       "        vertical-align: top;\n",
       "    }\n",
       "\n",
       "    .dataframe thead th {\n",
       "        text-align: right;\n",
       "    }\n",
       "</style>\n",
       "<table border=\"1\" class=\"dataframe\">\n",
       "  <thead>\n",
       "    <tr style=\"text-align: right;\">\n",
       "      <th></th>\n",
       "      <th>Tweets</th>\n",
       "    </tr>\n",
       "  </thead>\n",
       "  <tbody>\n",
       "    <tr>\n",
       "      <th>0</th>\n",
       "      <td>Warmest congratulations and good wishes to His...</td>\n",
       "    </tr>\n",
       "    <tr>\n",
       "      <th>1</th>\n",
       "      <td>RT @vijayrupanibjp: \"माधव से माधवपुर\"  \\n#Madh...</td>\n",
       "    </tr>\n",
       "    <tr>\n",
       "      <th>2</th>\n",
       "      <td>Attended the farewell function for Rajya Sabha...</td>\n",
       "    </tr>\n",
       "    <tr>\n",
       "      <th>3</th>\n",
       "      <td>RT @rajyasabhatv: PM Modi bids farewell to ret...</td>\n",
       "    </tr>\n",
       "    <tr>\n",
       "      <th>4</th>\n",
       "      <td>Joined the ceremony marking the presentation o...</td>\n",
       "    </tr>\n",
       "    <tr>\n",
       "      <th>5</th>\n",
       "      <td>RT @vijayrupanibjp: Fairs in Gujarat symbolize...</td>\n",
       "    </tr>\n",
       "    <tr>\n",
       "      <th>6</th>\n",
       "      <td>RT @vijayrupanibjp: Felt the divine presence d...</td>\n",
       "    </tr>\n",
       "    <tr>\n",
       "      <th>7</th>\n",
       "      <td>RT @vijayrupanibjp: At Porbandar with CM Aruna...</td>\n",
       "    </tr>\n",
       "    <tr>\n",
       "      <th>8</th>\n",
       "      <td>RT @dr_maheshsharma: माधवपुर की पावन माटी को म...</td>\n",
       "    </tr>\n",
       "    <tr>\n",
       "      <th>9</th>\n",
       "      <td>RT @dr_maheshsharma: At the historical #Madhav...</td>\n",
       "    </tr>\n",
       "  </tbody>\n",
       "</table>\n",
       "</div>"
      ],
      "text/plain": [
       "                                              Tweets\n",
       "0  Warmest congratulations and good wishes to His...\n",
       "1  RT @vijayrupanibjp: \"माधव से माधवपुर\"  \\n#Madh...\n",
       "2  Attended the farewell function for Rajya Sabha...\n",
       "3  RT @rajyasabhatv: PM Modi bids farewell to ret...\n",
       "4  Joined the ceremony marking the presentation o...\n",
       "5  RT @vijayrupanibjp: Fairs in Gujarat symbolize...\n",
       "6  RT @vijayrupanibjp: Felt the divine presence d...\n",
       "7  RT @vijayrupanibjp: At Porbandar with CM Aruna...\n",
       "8  RT @dr_maheshsharma: माधवपुर की पावन माटी को म...\n",
       "9  RT @dr_maheshsharma: At the historical #Madhav..."
      ]
     },
     "metadata": {},
     "output_type": "display_data"
    }
   ],
   "source": [
    "# We create a pandas dataframe as follows:\n",
    "data = pd.DataFrame(data=[tweet.text for tweet in tweets], columns=['Tweets'])\n",
    "\n",
    "# We display the first 10 elements of the dataframe:\n",
    "display(data.head(10))"
   ]
  },
  {
   "cell_type": "code",
   "execution_count": 7,
   "metadata": {},
   "outputs": [
    {
     "name": "stdout",
     "output_type": "stream",
     "text": [
      "['__class__', '__delattr__', '__dict__', '__dir__', '__doc__', '__eq__', '__format__', '__ge__', '__getattribute__', '__getstate__', '__gt__', '__hash__', '__init__', '__init_subclass__', '__le__', '__lt__', '__module__', '__ne__', '__new__', '__reduce__', '__reduce_ex__', '__repr__', '__setattr__', '__sizeof__', '__str__', '__subclasshook__', '__weakref__', '_api', '_json', 'author', 'contributors', 'coordinates', 'created_at', 'destroy', 'entities', 'favorite', 'favorite_count', 'favorited', 'geo', 'id', 'id_str', 'in_reply_to_screen_name', 'in_reply_to_status_id', 'in_reply_to_status_id_str', 'in_reply_to_user_id', 'in_reply_to_user_id_str', 'is_quote_status', 'lang', 'parse', 'parse_list', 'place', 'retweet', 'retweet_count', 'retweeted', 'retweets', 'source', 'source_url', 'text', 'truncated', 'user']\n"
     ]
    }
   ],
   "source": [
    "# Internal methods of a single tweet object:\n",
    "print(dir(tweets[0]))"
   ]
  },
  {
   "cell_type": "code",
   "execution_count": 8,
   "metadata": {},
   "outputs": [
    {
     "name": "stdout",
     "output_type": "stream",
     "text": [
      "978946595331993600\n",
      "2018-03-28 10:47:10\n",
      "Twitter Web Client\n",
      "5710\n",
      "1092\n",
      "None\n",
      "None\n",
      "{'hashtags': [], 'symbols': [], 'user_mentions': [], 'urls': [{'url': 'https://t.co/veUiwyzFxY', 'expanded_url': 'https://twitter.com/i/web/status/978946595331993600', 'display_url': 'twitter.com/i/web/status/9…', 'indices': [116, 139]}]}\n"
     ]
    }
   ],
   "source": [
    "# We print info from the first tweet:\n",
    "print(tweets[0].id)\n",
    "print(tweets[0].created_at)\n",
    "print(tweets[0].source)\n",
    "print(tweets[0].favorite_count)\n",
    "print(tweets[0].retweet_count)\n",
    "print(tweets[0].geo)\n",
    "print(tweets[0].coordinates)\n",
    "print(tweets[0].entities)"
   ]
  },
  {
   "cell_type": "code",
   "execution_count": 10,
   "metadata": {},
   "outputs": [],
   "source": [
    "# We add relevant data:\n",
    "data['len']  = np.array([len(tweet.text) for tweet in tweets])\n",
    "data['ID']   = np.array([tweet.id for tweet in tweets])\n",
    "data['Date'] = np.array([tweet.created_at for tweet in tweets])\n",
    "data['Source'] = np.array([tweet.source for tweet in tweets])\n",
    "data['Likes']  = np.array([tweet.favorite_count for tweet in tweets])\n",
    "data['RTs']    = np.array([tweet.retweet_count for tweet in tweets])\n"
   ]
  },
  {
   "cell_type": "code",
   "execution_count": 11,
   "metadata": {},
   "outputs": [
    {
     "data": {
      "text/html": [
       "<div>\n",
       "<style scoped>\n",
       "    .dataframe tbody tr th:only-of-type {\n",
       "        vertical-align: middle;\n",
       "    }\n",
       "\n",
       "    .dataframe tbody tr th {\n",
       "        vertical-align: top;\n",
       "    }\n",
       "\n",
       "    .dataframe thead th {\n",
       "        text-align: right;\n",
       "    }\n",
       "</style>\n",
       "<table border=\"1\" class=\"dataframe\">\n",
       "  <thead>\n",
       "    <tr style=\"text-align: right;\">\n",
       "      <th></th>\n",
       "      <th>Tweets</th>\n",
       "      <th>len</th>\n",
       "      <th>ID</th>\n",
       "      <th>Date</th>\n",
       "      <th>Source</th>\n",
       "      <th>Likes</th>\n",
       "      <th>RTs</th>\n",
       "    </tr>\n",
       "  </thead>\n",
       "  <tbody>\n",
       "    <tr>\n",
       "      <th>0</th>\n",
       "      <td>Warmest congratulations and good wishes to His...</td>\n",
       "      <td>139</td>\n",
       "      <td>978946595331993600</td>\n",
       "      <td>2018-03-28 10:47:10</td>\n",
       "      <td>Twitter Web Client</td>\n",
       "      <td>5710</td>\n",
       "      <td>1092</td>\n",
       "    </tr>\n",
       "    <tr>\n",
       "      <th>1</th>\n",
       "      <td>RT @vijayrupanibjp: \"माधव से माधवपुर\"  \\n#Madh...</td>\n",
       "      <td>104</td>\n",
       "      <td>978686233139298304</td>\n",
       "      <td>2018-03-27 17:32:35</td>\n",
       "      <td>Twitter for iPhone</td>\n",
       "      <td>0</td>\n",
       "      <td>981</td>\n",
       "    </tr>\n",
       "    <tr>\n",
       "      <th>2</th>\n",
       "      <td>Attended the farewell function for Rajya Sabha...</td>\n",
       "      <td>139</td>\n",
       "      <td>978684549210107904</td>\n",
       "      <td>2018-03-27 17:25:54</td>\n",
       "      <td>Twitter for iPhone</td>\n",
       "      <td>8664</td>\n",
       "      <td>1642</td>\n",
       "    </tr>\n",
       "    <tr>\n",
       "      <th>3</th>\n",
       "      <td>RT @rajyasabhatv: PM Modi bids farewell to ret...</td>\n",
       "      <td>112</td>\n",
       "      <td>978683994375012352</td>\n",
       "      <td>2018-03-27 17:23:41</td>\n",
       "      <td>Twitter for iPhone</td>\n",
       "      <td>0</td>\n",
       "      <td>384</td>\n",
       "    </tr>\n",
       "    <tr>\n",
       "      <th>4</th>\n",
       "      <td>Joined the ceremony marking the presentation o...</td>\n",
       "      <td>140</td>\n",
       "      <td>978683771833561088</td>\n",
       "      <td>2018-03-27 17:22:48</td>\n",
       "      <td>Twitter for iPhone</td>\n",
       "      <td>7107</td>\n",
       "      <td>1627</td>\n",
       "    </tr>\n",
       "    <tr>\n",
       "      <th>5</th>\n",
       "      <td>RT @vijayrupanibjp: Fairs in Gujarat symbolize...</td>\n",
       "      <td>140</td>\n",
       "      <td>978682992489975808</td>\n",
       "      <td>2018-03-27 17:19:43</td>\n",
       "      <td>Twitter for iPhone</td>\n",
       "      <td>0</td>\n",
       "      <td>885</td>\n",
       "    </tr>\n",
       "    <tr>\n",
       "      <th>6</th>\n",
       "      <td>RT @vijayrupanibjp: Felt the divine presence d...</td>\n",
       "      <td>140</td>\n",
       "      <td>978682958138589184</td>\n",
       "      <td>2018-03-27 17:19:34</td>\n",
       "      <td>Twitter for iPhone</td>\n",
       "      <td>0</td>\n",
       "      <td>603</td>\n",
       "    </tr>\n",
       "    <tr>\n",
       "      <th>7</th>\n",
       "      <td>RT @vijayrupanibjp: At Porbandar with CM Aruna...</td>\n",
       "      <td>140</td>\n",
       "      <td>978682891105312768</td>\n",
       "      <td>2018-03-27 17:19:18</td>\n",
       "      <td>Twitter for iPhone</td>\n",
       "      <td>0</td>\n",
       "      <td>545</td>\n",
       "    </tr>\n",
       "    <tr>\n",
       "      <th>8</th>\n",
       "      <td>RT @dr_maheshsharma: माधवपुर की पावन माटी को म...</td>\n",
       "      <td>139</td>\n",
       "      <td>978682794275692544</td>\n",
       "      <td>2018-03-27 17:18:55</td>\n",
       "      <td>Twitter for iPhone</td>\n",
       "      <td>0</td>\n",
       "      <td>499</td>\n",
       "    </tr>\n",
       "    <tr>\n",
       "      <th>9</th>\n",
       "      <td>RT @dr_maheshsharma: At the historical #Madhav...</td>\n",
       "      <td>139</td>\n",
       "      <td>978682756938027013</td>\n",
       "      <td>2018-03-27 17:18:46</td>\n",
       "      <td>Twitter for iPhone</td>\n",
       "      <td>0</td>\n",
       "      <td>601</td>\n",
       "    </tr>\n",
       "  </tbody>\n",
       "</table>\n",
       "</div>"
      ],
      "text/plain": [
       "                                              Tweets  len                  ID  \\\n",
       "0  Warmest congratulations and good wishes to His...  139  978946595331993600   \n",
       "1  RT @vijayrupanibjp: \"माधव से माधवपुर\"  \\n#Madh...  104  978686233139298304   \n",
       "2  Attended the farewell function for Rajya Sabha...  139  978684549210107904   \n",
       "3  RT @rajyasabhatv: PM Modi bids farewell to ret...  112  978683994375012352   \n",
       "4  Joined the ceremony marking the presentation o...  140  978683771833561088   \n",
       "5  RT @vijayrupanibjp: Fairs in Gujarat symbolize...  140  978682992489975808   \n",
       "6  RT @vijayrupanibjp: Felt the divine presence d...  140  978682958138589184   \n",
       "7  RT @vijayrupanibjp: At Porbandar with CM Aruna...  140  978682891105312768   \n",
       "8  RT @dr_maheshsharma: माधवपुर की पावन माटी को म...  139  978682794275692544   \n",
       "9  RT @dr_maheshsharma: At the historical #Madhav...  139  978682756938027013   \n",
       "\n",
       "                 Date              Source  Likes   RTs  \n",
       "0 2018-03-28 10:47:10  Twitter Web Client   5710  1092  \n",
       "1 2018-03-27 17:32:35  Twitter for iPhone      0   981  \n",
       "2 2018-03-27 17:25:54  Twitter for iPhone   8664  1642  \n",
       "3 2018-03-27 17:23:41  Twitter for iPhone      0   384  \n",
       "4 2018-03-27 17:22:48  Twitter for iPhone   7107  1627  \n",
       "5 2018-03-27 17:19:43  Twitter for iPhone      0   885  \n",
       "6 2018-03-27 17:19:34  Twitter for iPhone      0   603  \n",
       "7 2018-03-27 17:19:18  Twitter for iPhone      0   545  \n",
       "8 2018-03-27 17:18:55  Twitter for iPhone      0   499  \n",
       "9 2018-03-27 17:18:46  Twitter for iPhone      0   601  "
      ]
     },
     "metadata": {},
     "output_type": "display_data"
    }
   ],
   "source": [
    "# Display of first 10 elements from dataframe:\n",
    "display(data.head(10))\n"
   ]
  },
  {
   "cell_type": "code",
   "execution_count": 12,
   "metadata": {},
   "outputs": [],
   "source": [
    "# We extract the mean of lenghts:\n",
    "mean = np.mean(data['len'])"
   ]
  },
  {
   "cell_type": "code",
   "execution_count": 13,
   "metadata": {},
   "outputs": [
    {
     "data": {
      "text/plain": [
       "126.11"
      ]
     },
     "execution_count": 13,
     "metadata": {},
     "output_type": "execute_result"
    }
   ],
   "source": [
    "mean"
   ]
  },
  {
   "cell_type": "code",
   "execution_count": 14,
   "metadata": {},
   "outputs": [
    {
     "name": "stdout",
     "output_type": "stream",
     "text": [
      "The tweet with more likes is:\n",
      "Professor Stephen Hawking was an outstanding scientist and academic. His grit and tenacity inspired people all over… https://t.co/iAZ4vdIuVN\n",
      "Number of likes: 54479\n",
      "140 characters.\n",
      "\n",
      "The tweet with more retweets is:\n",
      "नव संवत्सर और नवरात्रि की सभी देशवासियों को हार्दिक शुभकामनाएं। विक्रम संवत 2075 सबके जीवन में सुख, समृद्धि और अच्छा स्वास्थ्य लेकर लाए।\n",
      "Number of retweets: 11287\n",
      "136 characters.\n",
      "\n"
     ]
    }
   ],
   "source": [
    "# We extract the tweet with more FAVs and more RTs:\n",
    "\n",
    "fav_max = np.max(data['Likes'])\n",
    "rt_max  = np.max(data['RTs'])\n",
    "\n",
    "fav = data[data.Likes == fav_max].index[0]\n",
    "rt  = data[data.RTs == rt_max].index[0]\n",
    "\n",
    "# Max FAVs:\n",
    "print(\"The tweet with more likes is:\")\n",
    "print((data['Tweets'][fav]))\n",
    "print(\"Number of likes: {}\".format(fav_max))\n",
    "print(\"{} characters.\\n\".format(data['len'][fav]))\n",
    "\n",
    "# Max RTs:\n",
    "print(\"The tweet with more retweets is:\")\n",
    "print((data['Tweets'][rt]))\n",
    "print(\"Number of retweets: {}\".format(rt_max))\n",
    "print(\"{} characters.\\n\".format(data['len'][rt]))"
   ]
  },
  {
   "cell_type": "code",
   "execution_count": 15,
   "metadata": {},
   "outputs": [
    {
     "data": {
      "image/png": "[encoded data removed]",
      "text/plain": [
       "<matplotlib.figure.Figure at 0x7f60bd8fe1d0>"
      ]
     },
     "metadata": {},
     "output_type": "display_data"
    }
   ],
   "source": [
    "#Pandas has its own object for time series. Since we have a whole vector with creation dates, we can construct time series respect tweets lengths, likes and retweets.\n",
    "# We create time series for data:\n",
    "# We create time series for data:\n",
    "\n",
    "tlen = pd.Series(data=data['len'].values, index=data['Date'])\n",
    "tfav = pd.Series(data=data['Likes'].values, index=data['Date'])\n",
    "tret = pd.Series(data=data['RTs'].values, index=data['Date'])\n",
    "\n",
    "tlen.plot(figsize=(16,4), color='r');"
   ]
  },
  {
   "cell_type": "code",
   "execution_count": 15,
   "metadata": {},
   "outputs": [],
   "source": [
    "plt.show()"
   ]
  },
  {
   "cell_type": "code",
   "execution_count": 16,
   "metadata": {},
   "outputs": [
    {
     "data": {
      "image/png": "[encoded data removed]",
      "text/plain": [
       "<matplotlib.figure.Figure at 0x7f60bd910160>"
      ]
     },
     "metadata": {},
     "output_type": "display_data"
    }
   ],
   "source": [
    "# Likes vs retweets visualization:\n",
    "tfav.plot(figsize=(16,4), label=\"Likes\", legend=True)\n",
    "tret.plot(figsize=(16,4), label=\"Retweets\", legend=True);\n",
    "plt.show()"
   ]
  },
  {
   "cell_type": "code",
   "execution_count": 17,
   "metadata": {},
   "outputs": [
    {
     "name": "stdout",
     "output_type": "stream",
     "text": [
      "Creation of content sources:\n",
      "* Twitter Web Client\n",
      "* Twitter for iPhone\n",
      "* Media Studio\n"
     ]
    }
   ],
   "source": [
    "#Pie charts of sources\n",
    "#We're almost done with this second section of the post. Now we will plot the sources in a pie chart, since we realized that not every tweet is tweeted from the same source. We first clean all the sources:\n",
    "# We obtain all possible sources:\n",
    "sources = []\n",
    "for source in data['Source']:\n",
    "    if source not in sources:\n",
    "        sources.append(source)\n",
    "\n",
    "# We print sources list:\n",
    "print(\"Creation of content sources:\")\n",
    "for source in sources:\n",
    "    print(\"* {}\".format(source))"
   ]
  },
  {
   "cell_type": "code",
   "execution_count": 18,
   "metadata": {},
   "outputs": [
    {
     "data": {
      "image/png": "[encoded data removed]",
      "text/plain": [
       "<matplotlib.figure.Figure at 0x7f60b5326d30>"
      ]
     },
     "metadata": {},
     "output_type": "display_data"
    }
   ],
   "source": [
    "#We now count the number of each source and create a pie chart. \n",
    "# We create a numpy vector mapped to labels:\n",
    "percent = np.zeros(len(sources))\n",
    "\n",
    "for source in data['Source']:\n",
    "    for index in range(len(sources)):\n",
    "        if source == sources[index]:\n",
    "            percent[index] += 1\n",
    "            pass\n",
    "\n",
    "percent /= 100\n",
    "\n",
    "# Pie chart:\n",
    "pie_chart = pd.Series(percent, index=sources, name='Sources')\n",
    "pie_chart.plot.pie(fontsize=11, autopct='%.2f', figsize=(6, 6));"
   ]
  },
  {
   "cell_type": "code",
   "execution_count": 19,
   "metadata": {},
   "outputs": [],
   "source": [
    "#Sentiment analysis\n",
    "from textblob import TextBlob\n",
    "import re\n",
    "\n",
    "def clean_tweet(tweet):\n",
    "    '''\n",
    "    Utility function to clean the text in a tweet by removing \n",
    "    links and special characters using regex.\n",
    "    '''\n",
    "    return ' '.join(re.sub(\"(@[A-Za-z0-9]+)|([^0-9A-Za-z \\t])|(\\w+:\\/\\/\\S+)\", \" \", tweet).split())"
   ]
  },
  {
   "cell_type": "code",
   "execution_count": 20,
   "metadata": {},
   "outputs": [],
   "source": [
    "#Textblob can work with different machine learning models used in natural language processing. \n",
    "def analize_sentiment(tweet):\n",
    "    '''\n",
    "    Utility function to classify the polarity of a tweet\n",
    "    using textblob.\n",
    "    '''\n",
    "    analysis = TextBlob(clean_tweet(tweet))\n",
    "    if analysis.sentiment.polarity > 0:\n",
    "        return 1\n",
    "    elif analysis.sentiment.polarity == 0:\n",
    "        return 0\n",
    "    else:\n",
    "        return -1\n",
    "\n"
   ]
  },
  {
   "cell_type": "code",
   "execution_count": 21,
   "metadata": {},
   "outputs": [
    {
     "data": {
      "text/html": [
       "<div>\n",
       "<style scoped>\n",
       "    .dataframe tbody tr th:only-of-type {\n",
       "        vertical-align: middle;\n",
       "    }\n",
       "\n",
       "    .dataframe tbody tr th {\n",
       "        vertical-align: top;\n",
       "    }\n",
       "\n",
       "    .dataframe thead th {\n",
       "        text-align: right;\n",
       "    }\n",
       "</style>\n",
       "<table border=\"1\" class=\"dataframe\">\n",
       "  <thead>\n",
       "    <tr style=\"text-align: right;\">\n",
       "      <th></th>\n",
       "      <th>Tweets</th>\n",
       "      <th>len</th>\n",
       "      <th>ID</th>\n",
       "      <th>Date</th>\n",
       "      <th>Source</th>\n",
       "      <th>Likes</th>\n",
       "      <th>RTs</th>\n",
       "      <th>SA</th>\n",
       "    </tr>\n",
       "  </thead>\n",
       "  <tbody>\n",
       "    <tr>\n",
       "      <th>0</th>\n",
       "      <td>Warmest congratulations and good wishes to His...</td>\n",
       "      <td>139</td>\n",
       "      <td>978946595331993600</td>\n",
       "      <td>2018-03-28 10:47:10</td>\n",
       "      <td>Twitter Web Client</td>\n",
       "      <td>5710</td>\n",
       "      <td>1092</td>\n",
       "      <td>1</td>\n",
       "    </tr>\n",
       "    <tr>\n",
       "      <th>1</th>\n",
       "      <td>RT @vijayrupanibjp: \"माधव से माधवपुर\"  \\n#Madh...</td>\n",
       "      <td>104</td>\n",
       "      <td>978686233139298304</td>\n",
       "      <td>2018-03-27 17:32:35</td>\n",
       "      <td>Twitter for iPhone</td>\n",
       "      <td>0</td>\n",
       "      <td>981</td>\n",
       "      <td>0</td>\n",
       "    </tr>\n",
       "    <tr>\n",
       "      <th>2</th>\n",
       "      <td>Attended the farewell function for Rajya Sabha...</td>\n",
       "      <td>139</td>\n",
       "      <td>978684549210107904</td>\n",
       "      <td>2018-03-27 17:25:54</td>\n",
       "      <td>Twitter for iPhone</td>\n",
       "      <td>8664</td>\n",
       "      <td>1642</td>\n",
       "      <td>0</td>\n",
       "    </tr>\n",
       "    <tr>\n",
       "      <th>3</th>\n",
       "      <td>RT @rajyasabhatv: PM Modi bids farewell to ret...</td>\n",
       "      <td>112</td>\n",
       "      <td>978683994375012352</td>\n",
       "      <td>2018-03-27 17:23:41</td>\n",
       "      <td>Twitter for iPhone</td>\n",
       "      <td>0</td>\n",
       "      <td>384</td>\n",
       "      <td>0</td>\n",
       "    </tr>\n",
       "    <tr>\n",
       "      <th>4</th>\n",
       "      <td>Joined the ceremony marking the presentation o...</td>\n",
       "      <td>140</td>\n",
       "      <td>978683771833561088</td>\n",
       "      <td>2018-03-27 17:22:48</td>\n",
       "      <td>Twitter for iPhone</td>\n",
       "      <td>7107</td>\n",
       "      <td>1627</td>\n",
       "      <td>0</td>\n",
       "    </tr>\n",
       "    <tr>\n",
       "      <th>5</th>\n",
       "      <td>RT @vijayrupanibjp: Fairs in Gujarat symbolize...</td>\n",
       "      <td>140</td>\n",
       "      <td>978682992489975808</td>\n",
       "      <td>2018-03-27 17:19:43</td>\n",
       "      <td>Twitter for iPhone</td>\n",
       "      <td>0</td>\n",
       "      <td>885</td>\n",
       "      <td>1</td>\n",
       "    </tr>\n",
       "    <tr>\n",
       "      <th>6</th>\n",
       "      <td>RT @vijayrupanibjp: Felt the divine presence d...</td>\n",
       "      <td>140</td>\n",
       "      <td>978682958138589184</td>\n",
       "      <td>2018-03-27 17:19:34</td>\n",
       "      <td>Twitter for iPhone</td>\n",
       "      <td>0</td>\n",
       "      <td>603</td>\n",
       "      <td>0</td>\n",
       "    </tr>\n",
       "    <tr>\n",
       "      <th>7</th>\n",
       "      <td>RT @vijayrupanibjp: At Porbandar with CM Aruna...</td>\n",
       "      <td>140</td>\n",
       "      <td>978682891105312768</td>\n",
       "      <td>2018-03-27 17:19:18</td>\n",
       "      <td>Twitter for iPhone</td>\n",
       "      <td>0</td>\n",
       "      <td>545</td>\n",
       "      <td>0</td>\n",
       "    </tr>\n",
       "    <tr>\n",
       "      <th>8</th>\n",
       "      <td>RT @dr_maheshsharma: माधवपुर की पावन माटी को म...</td>\n",
       "      <td>139</td>\n",
       "      <td>978682794275692544</td>\n",
       "      <td>2018-03-27 17:18:55</td>\n",
       "      <td>Twitter for iPhone</td>\n",
       "      <td>0</td>\n",
       "      <td>499</td>\n",
       "      <td>0</td>\n",
       "    </tr>\n",
       "    <tr>\n",
       "      <th>9</th>\n",
       "      <td>RT @dr_maheshsharma: At the historical #Madhav...</td>\n",
       "      <td>139</td>\n",
       "      <td>978682756938027013</td>\n",
       "      <td>2018-03-27 17:18:46</td>\n",
       "      <td>Twitter for iPhone</td>\n",
       "      <td>0</td>\n",
       "      <td>601</td>\n",
       "      <td>0</td>\n",
       "    </tr>\n",
       "  </tbody>\n",
       "</table>\n",
       "</div>"
      ],
      "text/plain": [
       "                                              Tweets  len                  ID  \\\n",
       "0  Warmest congratulations and good wishes to His...  139  978946595331993600   \n",
       "1  RT @vijayrupanibjp: \"माधव से माधवपुर\"  \\n#Madh...  104  978686233139298304   \n",
       "2  Attended the farewell function for Rajya Sabha...  139  978684549210107904   \n",
       "3  RT @rajyasabhatv: PM Modi bids farewell to ret...  112  978683994375012352   \n",
       "4  Joined the ceremony marking the presentation o...  140  978683771833561088   \n",
       "5  RT @vijayrupanibjp: Fairs in Gujarat symbolize...  140  978682992489975808   \n",
       "6  RT @vijayrupanibjp: Felt the divine presence d...  140  978682958138589184   \n",
       "7  RT @vijayrupanibjp: At Porbandar with CM Aruna...  140  978682891105312768   \n",
       "8  RT @dr_maheshsharma: माधवपुर की पावन माटी को म...  139  978682794275692544   \n",
       "9  RT @dr_maheshsharma: At the historical #Madhav...  139  978682756938027013   \n",
       "\n",
       "                 Date              Source  Likes   RTs  SA  \n",
       "0 2018-03-28 10:47:10  Twitter Web Client   5710  1092   1  \n",
       "1 2018-03-27 17:32:35  Twitter for iPhone      0   981   0  \n",
       "2 2018-03-27 17:25:54  Twitter for iPhone   8664  1642   0  \n",
       "3 2018-03-27 17:23:41  Twitter for iPhone      0   384   0  \n",
       "4 2018-03-27 17:22:48  Twitter for iPhone   7107  1627   0  \n",
       "5 2018-03-27 17:19:43  Twitter for iPhone      0   885   1  \n",
       "6 2018-03-27 17:19:34  Twitter for iPhone      0   603   0  \n",
       "7 2018-03-27 17:19:18  Twitter for iPhone      0   545   0  \n",
       "8 2018-03-27 17:18:55  Twitter for iPhone      0   499   0  \n",
       "9 2018-03-27 17:18:46  Twitter for iPhone      0   601   0  "
      ]
     },
     "metadata": {},
     "output_type": "display_data"
    }
   ],
   "source": [
    "# We create a column with the result of the analysis:\n",
    "data['SA'] = np.array([ analize_sentiment(tweet) for tweet in data['Tweets'] ])\n",
    "\n",
    "# We display the updated dataframe with the new column:\n",
    "display(data.head(10))"
   ]
  },
  {
   "cell_type": "code",
   "execution_count": 22,
   "metadata": {},
   "outputs": [],
   "source": [
    "#Analyzing the results\n",
    "#To have a simple way to verify the results, we will count the number of neutral, positive and negative tweets and extract the percentages.\n",
    "# We construct lists with classified tweets:\n",
    "\n",
    "pos_tweets = [ tweet for index, tweet in enumerate(data['Tweets']) if data['SA'][index] > 0]\n",
    "neu_tweets = [ tweet for index, tweet in enumerate(data['Tweets']) if data['SA'][index] == 0]\n",
    "neg_tweets = [ tweet for index, tweet in enumerate(data['Tweets']) if data['SA'][index] < 0]"
   ]
  },
  {
   "cell_type": "code",
   "execution_count": 23,
   "metadata": {},
   "outputs": [
    {
     "name": "stdout",
     "output_type": "stream",
     "text": [
      "Percentage of positive tweets: 42.5%\n",
      "Percentage of neutral tweets: 53.5%\n",
      "Percentage de negative tweets: 4.0%\n"
     ]
    }
   ],
   "source": [
    "# We print percentages:\n",
    "\n",
    "print(\"Percentage of positive tweets: {}%\".format(len(pos_tweets)*100/len(data['Tweets'])))\n",
    "print(\"Percentage of neutral tweets: {}%\".format(len(neu_tweets)*100/len(data['Tweets'])))\n",
    "print(\"Percentage de negative tweets: {}%\".format(len(neg_tweets)*100/len(data['Tweets'])))\n"
   ]
  },
  {
   "cell_type": "code",
   "execution_count": null,
   "metadata": {},
   "outputs": [],
   "source": []
  },
  {
   "cell_type": "code",
   "execution_count": null,
   "metadata": {
    "collapsed": true
   },
   "outputs": [],
   "source": []
  }
 ],
 "metadata": {
  "anaconda-cloud": {},
  "kernelspec": {
   "display_name": "Python 3",
   "language": "python",
   "name": "python3"
  },
  "language_info": {
   "codemirror_mode": {
    "name": "ipython",
    "version": 3
   },
   "file_extension": ".py",
   "mimetype": "text/x-python",
   "name": "python",
   "nbconvert_exporter": "python",
   "pygments_lexer": "ipython3",
   "version": "3.6.4"
  }
 },
 "nbformat": 4,
 "nbformat_minor": 1
}
