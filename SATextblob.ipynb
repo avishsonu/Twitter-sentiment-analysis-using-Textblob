{
 "cells": [
  {
   "cell_type": "code",
   "execution_count": 32,
   "metadata": {
    "collapsed": true
   },
   "outputs": [],
   "source": [
    "# General:\n",
    "import tweepy           # To consume Twitter's API\n",
    "import pandas as pd     # To handle data\n",
    "import numpy as np      # For number computing\n",
    "\n",
    "# For plotting and visualization:\n",
    "from IPython.display import display\n",
    "import matplotlib.pyplot as plt\n",
    "import seaborn as sns"
   ]
  },
  {
   "cell_type": "code",
   "execution_count": 33,
   "metadata": {
    "collapsed": true
   },
   "outputs": [],
   "source": [
    "def twitter_setup():\n",
    "    \"\"\"\n",
    "    Utility function to setup the Twitter's API\n",
    "    with our access keys provided.\n",
    "    \"\"\"\n",
    "    consumer_key = '9djiBujIhjpIOrzw9LqtGuFh8'\n",
    "    consumer_secret = 'gi798ZXa8YA7hH4dFw4zBGkKSGPd6qXmATcvQDGRnF5Qb6zSN7'\n",
    "    access_token = '758556758633811968-v4mRTEokErBRKdcJG5Uu7JuMjIFfx7u'\n",
    "    access_token_secret = 'k2oOoArJnuix017qJPz6ZkS6krAU6veL2kHU0i4Fv60pn'\n",
    "\n",
    "    auth = tweepy.OAuthHandler(consumer_key, consumer_secret)\n",
    "    auth.set_access_token(access_token, access_token_secret)\n",
    "    api = tweepy.API(auth,wait_on_rate_limit=True)\n",
    "    return api"
   ]
  },
  {
   "cell_type": "code",
   "execution_count": 34,
   "metadata": {
    "collapsed": false
   },
   "outputs": [
    {
     "name": "stdout",
     "output_type": "stream",
     "text": [
      "Number of tweets extracted: 200.\n",
      "\n"
     ]
    }
   ],
   "source": [
    "# We create an extractor object:\n",
    "extractor = twitter_setup()\n",
    "\n",
    "# We create a tweet list as follows:\n",
    "tweets = extractor.user_timeline(screen_name=\"narendramodi\", count=200)\n",
    "print(\"Number of tweets extracted: {}.\\n\".format(len(tweets)))\n"
   ]
  },
  {
   "cell_type": "code",
   "execution_count": 4,
   "metadata": {
    "collapsed": false
   },
   "outputs": [
    {
     "name": "stdout",
     "output_type": "stream",
     "text": [
      "5 recent tweets:\n",
      "\n",
      "Had a wonderful meeting with Mr. Roberto Azevêdo, Director-General of the @wto. @WTODGAZEVEDO https://t.co/nhX2UaTkeO\n",
      "()\n",
      "On the auspicious occasion of Cheti Chand, my best wishes to the Sindhi community. May Lord Jhulelal always shower… https://t.co/mF28PxiBhK\n",
      "()\n",
      "Navreh Mubarak! As the new year begins, I pray that everyone’s lives are blessed with tremendous happiness, prosper… https://t.co/7fYarWu2G1\n",
      "()\n",
      "Happy Ugadi! I pray for a year filled with happiness and good health.\n",
      "()\n",
      "On Gudi Padwa, greetings to my sisters and brothers of Maharashtra. I hope the coming year marks the fulfilment of… https://t.co/NJDHNz2wpH\n",
      "()\n"
     ]
    }
   ],
   "source": [
    "# We print the most recent 5 tweets:\n",
    "print(\"5 recent tweets:\\n\")\n",
    "for tweet in tweets[:5]:\n",
    "    print(tweet.text)\n",
    "    print()"
   ]
  },
  {
   "cell_type": "code",
   "execution_count": 35,
   "metadata": {
    "collapsed": false
   },
   "outputs": [
    {
     "data": {
      "text/html": [
       "<div>\n",
       "<table border=\"1\" class=\"dataframe\">\n",
       "  <thead>\n",
       "    <tr style=\"text-align: right;\">\n",
       "      <th></th>\n",
       "      <th>Tweets</th>\n",
       "    </tr>\n",
       "  </thead>\n",
       "  <tbody>\n",
       "    <tr>\n",
       "      <th>0</th>\n",
       "      <td>Had a wonderful meeting with Mr. Roberto Azevê...</td>\n",
       "    </tr>\n",
       "    <tr>\n",
       "      <th>1</th>\n",
       "      <td>On the auspicious occasion of Cheti Chand, my ...</td>\n",
       "    </tr>\n",
       "    <tr>\n",
       "      <th>2</th>\n",
       "      <td>Navreh Mubarak! As the new year begins, I pray...</td>\n",
       "    </tr>\n",
       "    <tr>\n",
       "      <th>3</th>\n",
       "      <td>Happy Ugadi! I pray for a year filled with hap...</td>\n",
       "    </tr>\n",
       "    <tr>\n",
       "      <th>4</th>\n",
       "      <td>On Gudi Padwa, greetings to my sisters and bro...</td>\n",
       "    </tr>\n",
       "    <tr>\n",
       "      <th>5</th>\n",
       "      <td>Sajibu Cheiraoba greetings to the people of Ma...</td>\n",
       "    </tr>\n",
       "    <tr>\n",
       "      <th>6</th>\n",
       "      <td>नव संवत्सर और नवरात्रि की सभी देशवासियों को हा...</td>\n",
       "    </tr>\n",
       "    <tr>\n",
       "      <th>7</th>\n",
       "      <td>Several people across the nation are celebrati...</td>\n",
       "    </tr>\n",
       "    <tr>\n",
       "      <th>8</th>\n",
       "      <td>Birthday wishes to my colleague Sadananda Gowd...</td>\n",
       "    </tr>\n",
       "    <tr>\n",
       "      <th>9</th>\n",
       "      <td>Here is my complete speech at the Rashtriya Ja...</td>\n",
       "    </tr>\n",
       "  </tbody>\n",
       "</table>\n",
       "</div>"
      ],
      "text/plain": [
       "                                              Tweets\n",
       "0  Had a wonderful meeting with Mr. Roberto Azevê...\n",
       "1  On the auspicious occasion of Cheti Chand, my ...\n",
       "2  Navreh Mubarak! As the new year begins, I pray...\n",
       "3  Happy Ugadi! I pray for a year filled with hap...\n",
       "4  On Gudi Padwa, greetings to my sisters and bro...\n",
       "5  Sajibu Cheiraoba greetings to the people of Ma...\n",
       "6  नव संवत्सर और नवरात्रि की सभी देशवासियों को हा...\n",
       "7  Several people across the nation are celebrati...\n",
       "8  Birthday wishes to my colleague Sadananda Gowd...\n",
       "9  Here is my complete speech at the Rashtriya Ja..."
      ]
     },
     "metadata": {},
     "output_type": "display_data"
    }
   ],
   "source": [
    "# We create a pandas dataframe as follows:\n",
    "data = pd.DataFrame(data=[tweet.text for tweet in tweets], columns=['Tweets'])\n",
    "\n",
    "# We display the first 10 elements of the dataframe:\n",
    "display(data.head(10))"
   ]
  },
  {
   "cell_type": "code",
   "execution_count": 36,
   "metadata": {
    "collapsed": false
   },
   "outputs": [
    {
     "name": "stdout",
     "output_type": "stream",
     "text": [
      "['__class__', '__delattr__', '__dict__', '__doc__', '__eq__', '__format__', '__getattribute__', '__getstate__', '__hash__', '__init__', '__module__', '__ne__', '__new__', '__reduce__', '__reduce_ex__', '__repr__', '__setattr__', '__sizeof__', '__str__', '__subclasshook__', '__weakref__', '_api', '_json', 'author', 'contributors', 'coordinates', 'created_at', 'destroy', 'entities', 'extended_entities', 'favorite', 'favorite_count', 'favorited', 'geo', 'id', 'id_str', 'in_reply_to_screen_name', 'in_reply_to_status_id', 'in_reply_to_status_id_str', 'in_reply_to_user_id', 'in_reply_to_user_id_str', 'is_quote_status', 'lang', 'parse', 'parse_list', 'place', 'possibly_sensitive', 'retweet', 'retweet_count', 'retweeted', 'retweets', 'source', 'source_url', 'text', 'truncated', 'user']\n"
     ]
    }
   ],
   "source": [
    "# Internal methods of a single tweet object:\n",
    "print(dir(tweets[0]))"
   ]
  },
  {
   "cell_type": "code",
   "execution_count": 7,
   "metadata": {
    "collapsed": false
   },
   "outputs": [
    {
     "name": "stdout",
     "output_type": "stream",
     "text": [
      "975741587912237056\n",
      "2018-03-19 14:31:37\n",
      "Twitter Web Client\n",
      "3745\n",
      "654\n",
      "None\n",
      "None\n",
      "{u'symbols': [], u'user_mentions': [{u'id': 169963553, u'indices': [74, 78], u'id_str': u'169963553', u'screen_name': u'wto', u'name': u'WTO'}, {u'id': 1722541195, u'indices': [80, 93], u'id_str': u'1722541195', u'screen_name': u'WTODGAZEVEDO', u'name': u'Roberto Azev\\xeado'}], u'hashtags': [], u'urls': [], u'media': [{u'expanded_url': u'https://twitter.com/narendramodi/status/975741587912237056/photo/1', u'display_url': u'pic.twitter.com/nhX2UaTkeO', u'url': u'https://t.co/nhX2UaTkeO', u'media_url_https': u'https://pbs.twimg.com/media/DYqHlLOX4AAew-0.jpg', u'id_str': u'975741342017118208', u'sizes': {u'small': {u'h': 453, u'resize': u'fit', u'w': 680}, u'large': {u'h': 1365, u'resize': u'fit', u'w': 2048}, u'medium': {u'h': 800, u'resize': u'fit', u'w': 1200}, u'thumb': {u'h': 150, u'resize': u'crop', u'w': 150}}, u'indices': [94, 117], u'type': u'photo', u'id': 975741342017118208L, u'media_url': u'http://pbs.twimg.com/media/DYqHlLOX4AAew-0.jpg'}]}\n"
     ]
    }
   ],
   "source": [
    "# We print info from the first tweet:\n",
    "print(tweets[0].id)\n",
    "print(tweets[0].created_at)\n",
    "print(tweets[0].source)\n",
    "print(tweets[0].favorite_count)\n",
    "print(tweets[0].retweet_count)\n",
    "print(tweets[0].geo)\n",
    "print(tweets[0].coordinates)\n",
    "print(tweets[0].entities)"
   ]
  },
  {
   "cell_type": "code",
   "execution_count": 37,
   "metadata": {
    "collapsed": true
   },
   "outputs": [],
   "source": [
    "# We add relevant data:\n",
    "data['len']  = np.array([len(tweet.text) for tweet in tweets])\n",
    "data['ID']   = np.array([tweet.id for tweet in tweets])\n",
    "data['Date'] = np.array([tweet.created_at for tweet in tweets])\n",
    "data['Source'] = np.array([tweet.source for tweet in tweets])\n",
    "data['Likes']  = np.array([tweet.favorite_count for tweet in tweets])\n",
    "data['RTs']    = np.array([tweet.retweet_count for tweet in tweets])\n"
   ]
  },
  {
   "cell_type": "code",
   "execution_count": 38,
   "metadata": {
    "collapsed": false
   },
   "outputs": [
    {
     "data": {
      "text/html": [
       "<div>\n",
       "<table border=\"1\" class=\"dataframe\">\n",
       "  <thead>\n",
       "    <tr style=\"text-align: right;\">\n",
       "      <th></th>\n",
       "      <th>Tweets</th>\n",
       "      <th>len</th>\n",
       "      <th>ID</th>\n",
       "      <th>Date</th>\n",
       "      <th>Source</th>\n",
       "      <th>Likes</th>\n",
       "      <th>RTs</th>\n",
       "    </tr>\n",
       "  </thead>\n",
       "  <tbody>\n",
       "    <tr>\n",
       "      <th>0</th>\n",
       "      <td>Had a wonderful meeting with Mr. Roberto Azevê...</td>\n",
       "      <td>117</td>\n",
       "      <td>975741587912237056</td>\n",
       "      <td>2018-03-19 14:31:37</td>\n",
       "      <td>Twitter Web Client</td>\n",
       "      <td>4398</td>\n",
       "      <td>753</td>\n",
       "    </tr>\n",
       "    <tr>\n",
       "      <th>1</th>\n",
       "      <td>On the auspicious occasion of Cheti Chand, my ...</td>\n",
       "      <td>139</td>\n",
       "      <td>975542906936115201</td>\n",
       "      <td>2018-03-19 01:22:08</td>\n",
       "      <td>Twitter for iPhone</td>\n",
       "      <td>15661</td>\n",
       "      <td>2756</td>\n",
       "    </tr>\n",
       "    <tr>\n",
       "      <th>2</th>\n",
       "      <td>Navreh Mubarak! As the new year begins, I pray...</td>\n",
       "      <td>140</td>\n",
       "      <td>975542446443540480</td>\n",
       "      <td>2018-03-19 01:20:18</td>\n",
       "      <td>Twitter for iPhone</td>\n",
       "      <td>24028</td>\n",
       "      <td>4287</td>\n",
       "    </tr>\n",
       "    <tr>\n",
       "      <th>3</th>\n",
       "      <td>Happy Ugadi! I pray for a year filled with hap...</td>\n",
       "      <td>69</td>\n",
       "      <td>975178012311412736</td>\n",
       "      <td>2018-03-18 01:12:10</td>\n",
       "      <td>Twitter for iPhone</td>\n",
       "      <td>23954</td>\n",
       "      <td>4265</td>\n",
       "    </tr>\n",
       "    <tr>\n",
       "      <th>4</th>\n",
       "      <td>On Gudi Padwa, greetings to my sisters and bro...</td>\n",
       "      <td>139</td>\n",
       "      <td>975177816777154561</td>\n",
       "      <td>2018-03-18 01:11:24</td>\n",
       "      <td>Twitter for iPhone</td>\n",
       "      <td>13553</td>\n",
       "      <td>2842</td>\n",
       "    </tr>\n",
       "    <tr>\n",
       "      <th>5</th>\n",
       "      <td>Sajibu Cheiraoba greetings to the people of Ma...</td>\n",
       "      <td>120</td>\n",
       "      <td>975176821020004352</td>\n",
       "      <td>2018-03-18 01:07:26</td>\n",
       "      <td>Twitter for iPhone</td>\n",
       "      <td>7344</td>\n",
       "      <td>1650</td>\n",
       "    </tr>\n",
       "    <tr>\n",
       "      <th>6</th>\n",
       "      <td>नव संवत्सर और नवरात्रि की सभी देशवासियों को हा...</td>\n",
       "      <td>136</td>\n",
       "      <td>975175829968904192</td>\n",
       "      <td>2018-03-18 01:03:30</td>\n",
       "      <td>Twitter for iPhone</td>\n",
       "      <td>48102</td>\n",
       "      <td>10712</td>\n",
       "    </tr>\n",
       "    <tr>\n",
       "      <th>7</th>\n",
       "      <td>Several people across the nation are celebrati...</td>\n",
       "      <td>140</td>\n",
       "      <td>975175218711990273</td>\n",
       "      <td>2018-03-18 01:01:04</td>\n",
       "      <td>Twitter for iPhone</td>\n",
       "      <td>9903</td>\n",
       "      <td>2219</td>\n",
       "    </tr>\n",
       "    <tr>\n",
       "      <th>8</th>\n",
       "      <td>Birthday wishes to my colleague Sadananda Gowd...</td>\n",
       "      <td>140</td>\n",
       "      <td>975174778674966529</td>\n",
       "      <td>2018-03-18 00:59:19</td>\n",
       "      <td>Twitter for iPhone</td>\n",
       "      <td>5171</td>\n",
       "      <td>1057</td>\n",
       "    </tr>\n",
       "    <tr>\n",
       "      <th>9</th>\n",
       "      <td>Here is my complete speech at the Rashtriya Ja...</td>\n",
       "      <td>109</td>\n",
       "      <td>975032039253708800</td>\n",
       "      <td>2018-03-17 15:32:08</td>\n",
       "      <td>Twitter Web Client</td>\n",
       "      <td>8617</td>\n",
       "      <td>1830</td>\n",
       "    </tr>\n",
       "  </tbody>\n",
       "</table>\n",
       "</div>"
      ],
      "text/plain": [
       "                                              Tweets  len                  ID  \\\n",
       "0  Had a wonderful meeting with Mr. Roberto Azevê...  117  975741587912237056   \n",
       "1  On the auspicious occasion of Cheti Chand, my ...  139  975542906936115201   \n",
       "2  Navreh Mubarak! As the new year begins, I pray...  140  975542446443540480   \n",
       "3  Happy Ugadi! I pray for a year filled with hap...   69  975178012311412736   \n",
       "4  On Gudi Padwa, greetings to my sisters and bro...  139  975177816777154561   \n",
       "5  Sajibu Cheiraoba greetings to the people of Ma...  120  975176821020004352   \n",
       "6  नव संवत्सर और नवरात्रि की सभी देशवासियों को हा...  136  975175829968904192   \n",
       "7  Several people across the nation are celebrati...  140  975175218711990273   \n",
       "8  Birthday wishes to my colleague Sadananda Gowd...  140  975174778674966529   \n",
       "9  Here is my complete speech at the Rashtriya Ja...  109  975032039253708800   \n",
       "\n",
       "                 Date              Source  Likes    RTs  \n",
       "0 2018-03-19 14:31:37  Twitter Web Client   4398    753  \n",
       "1 2018-03-19 01:22:08  Twitter for iPhone  15661   2756  \n",
       "2 2018-03-19 01:20:18  Twitter for iPhone  24028   4287  \n",
       "3 2018-03-18 01:12:10  Twitter for iPhone  23954   4265  \n",
       "4 2018-03-18 01:11:24  Twitter for iPhone  13553   2842  \n",
       "5 2018-03-18 01:07:26  Twitter for iPhone   7344   1650  \n",
       "6 2018-03-18 01:03:30  Twitter for iPhone  48102  10712  \n",
       "7 2018-03-18 01:01:04  Twitter for iPhone   9903   2219  \n",
       "8 2018-03-18 00:59:19  Twitter for iPhone   5171   1057  \n",
       "9 2018-03-17 15:32:08  Twitter Web Client   8617   1830  "
      ]
     },
     "metadata": {},
     "output_type": "display_data"
    }
   ],
   "source": [
    "# Display of first 10 elements from dataframe:\n",
    "display(data.head(10))\n"
   ]
  },
  {
   "cell_type": "code",
   "execution_count": 39,
   "metadata": {
    "collapsed": true
   },
   "outputs": [],
   "source": [
    "# We extract the mean of lenghts:\n",
    "mean = np.mean(data['len'])"
   ]
  },
  {
   "cell_type": "code",
   "execution_count": 40,
   "metadata": {
    "collapsed": false
   },
   "outputs": [
    {
     "data": {
      "text/plain": [
       "127.16"
      ]
     },
     "execution_count": 40,
     "metadata": {},
     "output_type": "execute_result"
    }
   ],
   "source": [
    "mean"
   ]
  },
  {
   "cell_type": "code",
   "execution_count": 41,
   "metadata": {
    "collapsed": false
   },
   "outputs": [
    {
     "name": "stdout",
     "output_type": "stream",
     "text": [
      "The tweet with more likes is:\n",
      "Professor Stephen Hawking was an outstanding scientist and academic. His grit and tenacity inspired people all over… https://t.co/iAZ4vdIuVN\n",
      "Number of likes: 53827\n",
      "140 characters.\n",
      "\n",
      "The tweet with more retweets is:\n",
      "Professor Stephen Hawking was an outstanding scientist and academic. His grit and tenacity inspired people all over… https://t.co/iAZ4vdIuVN\n",
      "Number of retweets: 10986\n",
      "140 characters.\n",
      "\n"
     ]
    }
   ],
   "source": [
    "# We extract the tweet with more FAVs and more RTs:\n",
    "\n",
    "fav_max = np.max(data['Likes'])\n",
    "rt_max  = np.max(data['RTs'])\n",
    "\n",
    "fav = data[data.Likes == fav_max].index[0]\n",
    "rt  = data[data.RTs == rt_max].index[0]\n",
    "\n",
    "# Max FAVs:\n",
    "print(\"The tweet with more likes is:\")\n",
    "print((data['Tweets'][fav]))\n",
    "print(\"Number of likes: {}\".format(fav_max))\n",
    "print(\"{} characters.\\n\".format(data['len'][fav]))\n",
    "\n",
    "# Max RTs:\n",
    "print(\"The tweet with more retweets is:\")\n",
    "print((data['Tweets'][rt]))\n",
    "print(\"Number of retweets: {}\".format(rt_max))\n",
    "print(\"{} characters.\\n\".format(data['len'][rt]))"
   ]
  },
  {
   "cell_type": "code",
   "execution_count": 42,
   "metadata": {
    "collapsed": true
   },
   "outputs": [],
   "source": [
    "#Pandas has its own object for time series. Since we have a whole vector with creation dates, we can construct time series respect tweets lengths, likes and retweets.\n",
    "# We create time series for data:\n",
    "# We create time series for data:\n",
    "\n",
    "tlen = pd.Series(data=data['len'].values, index=data['Date'])\n",
    "tfav = pd.Series(data=data['Likes'].values, index=data['Date'])\n",
    "tret = pd.Series(data=data['RTs'].values, index=data['Date'])\n",
    "\n",
    "tlen.plot(figsize=(16,4), color='r');"
   ]
  },
  {
   "cell_type": "code",
   "execution_count": 43,
   "metadata": {
    "collapsed": true
   },
   "outputs": [],
   "source": [
    "plt.show()"
   ]
  },
  {
   "cell_type": "code",
   "execution_count": 44,
   "metadata": {
    "collapsed": true
   },
   "outputs": [],
   "source": [
    "# Likes vs retweets visualization:\n",
    "tfav.plot(figsize=(16,4), label=\"Likes\", legend=True)\n",
    "tret.plot(figsize=(16,4), label=\"Retweets\", legend=True);\n",
    "plt.show()"
   ]
  },
  {
   "cell_type": "code",
   "execution_count": 45,
   "metadata": {
    "collapsed": false
   },
   "outputs": [
    {
     "name": "stdout",
     "output_type": "stream",
     "text": [
      "Creation of content sources:\n",
      "* Twitter Web Client\n",
      "* Twitter for iPhone\n",
      "* Media Studio\n"
     ]
    }
   ],
   "source": [
    "#Pie charts of sources\n",
    "#We're almost done with this second section of the post. Now we will plot the sources in a pie chart, since we realized that not every tweet is tweeted from the same source. We first clean all the sources:\n",
    "# We obtain all possible sources:\n",
    "sources = []\n",
    "for source in data['Source']:\n",
    "    if source not in sources:\n",
    "        sources.append(source)\n",
    "\n",
    "# We print sources list:\n",
    "print(\"Creation of content sources:\")\n",
    "for source in sources:\n",
    "    print(\"* {}\".format(source))"
   ]
  },
  {
   "cell_type": "code",
   "execution_count": 46,
   "metadata": {
    "collapsed": true
   },
   "outputs": [],
   "source": [
    "#We now count the number of each source and create a pie chart. \n",
    "# We create a numpy vector mapped to labels:\n",
    "percent = np.zeros(len(sources))\n",
    "\n",
    "for source in data['Source']:\n",
    "    for index in range(len(sources)):\n",
    "        if source == sources[index]:\n",
    "            percent[index] += 1\n",
    "            pass\n",
    "\n",
    "percent /= 100\n",
    "\n",
    "# Pie chart:\n",
    "pie_chart = pd.Series(percent, index=sources, name='Sources')\n",
    "pie_chart.plot.pie(fontsize=11, autopct='%.2f', figsize=(6, 6));"
   ]
  },
  {
   "cell_type": "code",
   "execution_count": 47,
   "metadata": {
    "collapsed": true
   },
   "outputs": [],
   "source": [
    "# Pie chart:\n",
    "pie_chart = pd.Series(percent, index=sources, name='Sources')\n",
    "pie_chart.plot.pie(fontsize=11, autopct='%.2f', figsize=(6, 6));\n",
    "plt.show()"
   ]
  },
  {
   "cell_type": "code",
   "execution_count": 48,
   "metadata": {
    "collapsed": true
   },
   "outputs": [],
   "source": [
    "#Sentiment analysis\n",
    "from textblob import TextBlob\n",
    "import re\n",
    "\n",
    "def clean_tweet(tweet):\n",
    "    '''\n",
    "    Utility function to clean the text in a tweet by removing \n",
    "    links and special characters using regex.\n",
    "    '''\n",
    "    return ' '.join(re.sub(\"(@[A-Za-z0-9]+)|([^0-9A-Za-z \\t])|(\\w+:\\/\\/\\S+)\", \" \", tweet).split())\n"
   ]
  },
  {
   "cell_type": "code",
   "execution_count": 49,
   "metadata": {
    "collapsed": true
   },
   "outputs": [],
   "source": [
    "#Textblob can work with different machine learning models used in natural language processing. \n",
    "def analize_sentiment(tweet):\n",
    "    '''\n",
    "    Utility function to classify the polarity of a tweet\n",
    "    using textblob.\n",
    "    '''\n",
    "    analysis = TextBlob(clean_tweet(tweet))\n",
    "    if analysis.sentiment.polarity > 0:\n",
    "        return 1\n",
    "    elif analysis.sentiment.polarity == 0:\n",
    "        return 0\n",
    "    else:\n",
    "        return -1\n"
   ]
  },
  {
   "cell_type": "code",
   "execution_count": 50,
   "metadata": {
    "collapsed": false
   },
   "outputs": [
    {
     "data": {
      "text/html": [
       "<div>\n",
       "<table border=\"1\" class=\"dataframe\">\n",
       "  <thead>\n",
       "    <tr style=\"text-align: right;\">\n",
       "      <th></th>\n",
       "      <th>Tweets</th>\n",
       "      <th>len</th>\n",
       "      <th>ID</th>\n",
       "      <th>Date</th>\n",
       "      <th>Source</th>\n",
       "      <th>Likes</th>\n",
       "      <th>RTs</th>\n",
       "      <th>SA</th>\n",
       "    </tr>\n",
       "  </thead>\n",
       "  <tbody>\n",
       "    <tr>\n",
       "      <th>0</th>\n",
       "      <td>Had a wonderful meeting with Mr. Roberto Azevê...</td>\n",
       "      <td>117</td>\n",
       "      <td>975741587912237056</td>\n",
       "      <td>2018-03-19 14:31:37</td>\n",
       "      <td>Twitter Web Client</td>\n",
       "      <td>4398</td>\n",
       "      <td>753</td>\n",
       "      <td>1</td>\n",
       "    </tr>\n",
       "    <tr>\n",
       "      <th>1</th>\n",
       "      <td>On the auspicious occasion of Cheti Chand, my ...</td>\n",
       "      <td>139</td>\n",
       "      <td>975542906936115201</td>\n",
       "      <td>2018-03-19 01:22:08</td>\n",
       "      <td>Twitter for iPhone</td>\n",
       "      <td>15661</td>\n",
       "      <td>2756</td>\n",
       "      <td>1</td>\n",
       "    </tr>\n",
       "    <tr>\n",
       "      <th>2</th>\n",
       "      <td>Navreh Mubarak! As the new year begins, I pray...</td>\n",
       "      <td>140</td>\n",
       "      <td>975542446443540480</td>\n",
       "      <td>2018-03-19 01:20:18</td>\n",
       "      <td>Twitter for iPhone</td>\n",
       "      <td>24028</td>\n",
       "      <td>4287</td>\n",
       "      <td>1</td>\n",
       "    </tr>\n",
       "    <tr>\n",
       "      <th>3</th>\n",
       "      <td>Happy Ugadi! I pray for a year filled with hap...</td>\n",
       "      <td>69</td>\n",
       "      <td>975178012311412736</td>\n",
       "      <td>2018-03-18 01:12:10</td>\n",
       "      <td>Twitter for iPhone</td>\n",
       "      <td>23954</td>\n",
       "      <td>4265</td>\n",
       "      <td>1</td>\n",
       "    </tr>\n",
       "    <tr>\n",
       "      <th>4</th>\n",
       "      <td>On Gudi Padwa, greetings to my sisters and bro...</td>\n",
       "      <td>139</td>\n",
       "      <td>975177816777154561</td>\n",
       "      <td>2018-03-18 01:11:24</td>\n",
       "      <td>Twitter for iPhone</td>\n",
       "      <td>13553</td>\n",
       "      <td>2842</td>\n",
       "      <td>0</td>\n",
       "    </tr>\n",
       "    <tr>\n",
       "      <th>5</th>\n",
       "      <td>Sajibu Cheiraoba greetings to the people of Ma...</td>\n",
       "      <td>120</td>\n",
       "      <td>975176821020004352</td>\n",
       "      <td>2018-03-18 01:07:26</td>\n",
       "      <td>Twitter for iPhone</td>\n",
       "      <td>7344</td>\n",
       "      <td>1650</td>\n",
       "      <td>0</td>\n",
       "    </tr>\n",
       "    <tr>\n",
       "      <th>6</th>\n",
       "      <td>नव संवत्सर और नवरात्रि की सभी देशवासियों को हा...</td>\n",
       "      <td>136</td>\n",
       "      <td>975175829968904192</td>\n",
       "      <td>2018-03-18 01:03:30</td>\n",
       "      <td>Twitter for iPhone</td>\n",
       "      <td>48102</td>\n",
       "      <td>10712</td>\n",
       "      <td>0</td>\n",
       "    </tr>\n",
       "    <tr>\n",
       "      <th>7</th>\n",
       "      <td>Several people across the nation are celebrati...</td>\n",
       "      <td>140</td>\n",
       "      <td>975175218711990273</td>\n",
       "      <td>2018-03-18 01:01:04</td>\n",
       "      <td>Twitter for iPhone</td>\n",
       "      <td>9903</td>\n",
       "      <td>2219</td>\n",
       "      <td>1</td>\n",
       "    </tr>\n",
       "    <tr>\n",
       "      <th>8</th>\n",
       "      <td>Birthday wishes to my colleague Sadananda Gowd...</td>\n",
       "      <td>140</td>\n",
       "      <td>975174778674966529</td>\n",
       "      <td>2018-03-18 00:59:19</td>\n",
       "      <td>Twitter for iPhone</td>\n",
       "      <td>5171</td>\n",
       "      <td>1057</td>\n",
       "      <td>0</td>\n",
       "    </tr>\n",
       "    <tr>\n",
       "      <th>9</th>\n",
       "      <td>Here is my complete speech at the Rashtriya Ja...</td>\n",
       "      <td>109</td>\n",
       "      <td>975032039253708800</td>\n",
       "      <td>2018-03-17 15:32:08</td>\n",
       "      <td>Twitter Web Client</td>\n",
       "      <td>8617</td>\n",
       "      <td>1830</td>\n",
       "      <td>1</td>\n",
       "    </tr>\n",
       "  </tbody>\n",
       "</table>\n",
       "</div>"
      ],
      "text/plain": [
       "                                              Tweets  len                  ID  \\\n",
       "0  Had a wonderful meeting with Mr. Roberto Azevê...  117  975741587912237056   \n",
       "1  On the auspicious occasion of Cheti Chand, my ...  139  975542906936115201   \n",
       "2  Navreh Mubarak! As the new year begins, I pray...  140  975542446443540480   \n",
       "3  Happy Ugadi! I pray for a year filled with hap...   69  975178012311412736   \n",
       "4  On Gudi Padwa, greetings to my sisters and bro...  139  975177816777154561   \n",
       "5  Sajibu Cheiraoba greetings to the people of Ma...  120  975176821020004352   \n",
       "6  नव संवत्सर और नवरात्रि की सभी देशवासियों को हा...  136  975175829968904192   \n",
       "7  Several people across the nation are celebrati...  140  975175218711990273   \n",
       "8  Birthday wishes to my colleague Sadananda Gowd...  140  975174778674966529   \n",
       "9  Here is my complete speech at the Rashtriya Ja...  109  975032039253708800   \n",
       "\n",
       "                 Date              Source  Likes    RTs  SA  \n",
       "0 2018-03-19 14:31:37  Twitter Web Client   4398    753   1  \n",
       "1 2018-03-19 01:22:08  Twitter for iPhone  15661   2756   1  \n",
       "2 2018-03-19 01:20:18  Twitter for iPhone  24028   4287   1  \n",
       "3 2018-03-18 01:12:10  Twitter for iPhone  23954   4265   1  \n",
       "4 2018-03-18 01:11:24  Twitter for iPhone  13553   2842   0  \n",
       "5 2018-03-18 01:07:26  Twitter for iPhone   7344   1650   0  \n",
       "6 2018-03-18 01:03:30  Twitter for iPhone  48102  10712   0  \n",
       "7 2018-03-18 01:01:04  Twitter for iPhone   9903   2219   1  \n",
       "8 2018-03-18 00:59:19  Twitter for iPhone   5171   1057   0  \n",
       "9 2018-03-17 15:32:08  Twitter Web Client   8617   1830   1  "
      ]
     },
     "metadata": {},
     "output_type": "display_data"
    }
   ],
   "source": [
    "# We create a column with the result of the analysis:\n",
    "data['SA'] = np.array([ analize_sentiment(tweet) for tweet in data['Tweets'] ])\n",
    "\n",
    "# We display the updated dataframe with the new column:\n",
    "display(data.head(10))"
   ]
  },
  {
   "cell_type": "code",
   "execution_count": 51,
   "metadata": {
    "collapsed": true
   },
   "outputs": [],
   "source": [
    "#Analyzing the results\n",
    "#To have a simple way to verify the results, we will count the number of neutral, positive and negative tweets and extract the percentages.\n",
    "# We construct lists with classified tweets:\n",
    "\n",
    "pos_tweets = [ tweet for index, tweet in enumerate(data['Tweets']) if data['SA'][index] > 0]\n",
    "neu_tweets = [ tweet for index, tweet in enumerate(data['Tweets']) if data['SA'][index] == 0]\n",
    "neg_tweets = [ tweet for index, tweet in enumerate(data['Tweets']) if data['SA'][index] < 0]"
   ]
  },
  {
   "cell_type": "code",
   "execution_count": 52,
   "metadata": {
    "collapsed": false
   },
   "outputs": [
    {
     "name": "stdout",
     "output_type": "stream",
     "text": [
      "Percentage of positive tweets: 41%\n",
      "Percentage of neutral tweets: 53%\n",
      "Percentage de negative tweets: 5%\n"
     ]
    }
   ],
   "source": [
    "# We print percentages:\n",
    "\n",
    "print(\"Percentage of positive tweets: {}%\".format(len(pos_tweets)*100/len(data['Tweets'])))\n",
    "print(\"Percentage of neutral tweets: {}%\".format(len(neu_tweets)*100/len(data['Tweets'])))\n",
    "print(\"Percentage de negative tweets: {}%\".format(len(neg_tweets)*100/len(data['Tweets'])))\n"
   ]
  },
  {
   "cell_type": "code",
   "execution_count": null,
   "metadata": {
    "collapsed": true
   },
   "outputs": [],
   "source": []
  }
 ],
 "metadata": {
  "anaconda-cloud": {},
  "kernelspec": {
   "display_name": "Python [Root]",
   "language": "python",
   "name": "Python [Root]"
  },
  "language_info": {
   "codemirror_mode": {
    "name": "ipython",
    "version": 2
   },
   "file_extension": ".py",
   "mimetype": "text/x-python",
   "name": "python",
   "nbconvert_exporter": "python",
   "pygments_lexer": "ipython2",
   "version": "2.7.12"
  }
 },
 "nbformat": 4,
 "nbformat_minor": 0
}
